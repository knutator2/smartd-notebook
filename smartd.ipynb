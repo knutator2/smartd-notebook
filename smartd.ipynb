{
 "cells": [
  {
   "cell_type": "code",
   "execution_count": 83,
   "metadata": {
    "collapsed": true
   },
   "outputs": [],
   "source": [
    "import requests\n",
    "import datetime\n",
    "import time\n",
    "import pprint\n",
    "import json\n",
    "\n",
    "categories = [103, 1226, 1225, 100, 102, 1228, 1223, 111, 112, 113]\n",
    "# providers = ['DE-AT-LU', 'DE', '50Hertz', 'Amprion', 'Tennet', 'TransnetBW', 'APG']\n",
    "providers = ['DE','50Hertz']\n",
    "category_names = ['Biomasse', 'Wasserkraft', 'Wind Offshore', 'Wind Onshore', 'Photovoltaik', 'Sonstige Erneuerbare', \n",
    "                  'Kernenergie', 'Braunkohle', 'Steinkohle', 'Erdgas']\n",
    "steplength = 604800000\n",
    "start = 1451257200000\n",
    "end = 1505685600000"
   ]
  },
  {
   "cell_type": "code",
   "execution_count": null,
   "metadata": {
    "collapsed": false,
    "scrolled": false
   },
   "outputs": [
    {
     "name": "stdout",
     "output_type": "stream",
     "text": [
      "True\n",
      "False\n",
      "True\n",
      "True\n",
      "False\n",
      "True\n",
      "True\n"
     ]
    }
   ],
   "source": [
    "result_data = {}\n",
    "for provider in providers:\n",
    "    provider_data = {}\n",
    "    for cat_index, category in enumerate(categories):\n",
    "        category_data = []\n",
    "        time = start\n",
    "        summertime = False\n",
    "        while time <= end:\n",
    "            url = 'https://www.smard.de/app/table_data/{0}/{1}/{0}_{1}_quarterhour_{2}.json' \\\n",
    "                .format(category, provider, time)\n",
    "            r = requests.get(url)\n",
    "#             print('{0}: {1}'.format(r.status_code, url))\n",
    "            if (r.status_code == 404):\n",
    "                time = time + 3600000 if summertime else time - 3600000\n",
    "                summertime = not summertime\n",
    "                print(summertime)\n",
    "            if (r.status_code == 200):\n",
    "                time += steplength\n",
    "                data = r.json()['series'][0]['values']\n",
    "                result = [{item['timestamp']: item['versions'][0]['value']} for item in data]\n",
    "                category_data += result\n",
    "        provider_data[category_names[cat_index]] = category_data\n",
    "#     print(provider_data)\n",
    "    result_data[provider] = provider_data\n",
    "\n",
    "with open('result.json', 'w') as fp:\n",
    "    json.dump(result_data, fp)                \n",
    "            \n",
    "    "
   ]
  },
  {
   "cell_type": "code",
   "execution_count": 44,
   "metadata": {
    "collapsed": false,
    "scrolled": false
   },
   "outputs": [
    {
     "name": "stdout",
     "output_type": "stream",
     "text": [
      "1419807600.0\n",
      "<class 'datetime.date'>\n",
      "1419980400.0\n"
     ]
    },
    {
     "data": {
      "text/plain": [
       "datetime.timedelta(2)"
      ]
     },
     "execution_count": 44,
     "metadata": {},
     "output_type": "execute_result"
    }
   ],
   "source": [
    "s = datetime.date.fromtimestamp(1419807600)\n",
    "print(time.mktime(s.timetuple()))\n",
    "print(type(s))\n",
    "timedel = datetime.timedelta(days=2)\n",
    "end_date = s + datetime.timedelta(days=2)\n",
    "print(time.mktime(end_date.timetuple()))\n",
    "timedel"
   ]
  },
  {
   "cell_type": "code",
   "execution_count": null,
   "metadata": {
    "collapsed": true
   },
   "outputs": [],
   "source": []
  }
 ],
 "metadata": {
  "kernelspec": {
   "display_name": "Python 3",
   "language": "python",
   "name": "python3"
  },
  "language_info": {
   "codemirror_mode": {
    "name": "ipython",
    "version": 3
   },
   "file_extension": ".py",
   "mimetype": "text/x-python",
   "name": "python",
   "nbconvert_exporter": "python",
   "pygments_lexer": "ipython3",
   "version": "3.6.0"
  }
 },
 "nbformat": 4,
 "nbformat_minor": 2
}
